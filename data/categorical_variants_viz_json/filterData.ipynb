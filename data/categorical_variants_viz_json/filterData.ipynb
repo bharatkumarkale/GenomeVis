{
 "cells": [
  {
   "cell_type": "code",
   "execution_count": 4,
   "id": "1ac39828-9cb3-4773-a0d6-eeccfa281e01",
   "metadata": {},
   "outputs": [],
   "source": [
    "import json\n",
    "from tqdm import tqdm"
   ]
  },
  {
   "cell_type": "code",
   "execution_count": 7,
   "id": "c86c0539-c72b-478d-a4a0-d7dc0a06a918",
   "metadata": {},
   "outputs": [
    {
     "name": "stderr",
     "output_type": "stream",
     "text": [
      "  0%|                                                                                            | 0/8 [00:00<?, ?it/s]"
     ]
    },
    {
     "name": "stdout",
     "output_type": "stream",
     "text": [
      "0 51450\n"
     ]
    },
    {
     "name": "stderr",
     "output_type": "stream",
     "text": [
      " 12%|██████████▍                                                                        | 1/8 [03:32<24:48, 212.67s/it]"
     ]
    },
    {
     "name": "stdout",
     "output_type": "stream",
     "text": [
      "1 55086\n"
     ]
    },
    {
     "name": "stderr",
     "output_type": "stream",
     "text": [
      " 25%|████████████████████▊                                                              | 2/8 [07:13<21:46, 217.72s/it]"
     ]
    },
    {
     "name": "stdout",
     "output_type": "stream",
     "text": [
      "2 55118\n"
     ]
    },
    {
     "name": "stderr",
     "output_type": "stream",
     "text": [
      " 38%|███████████████████████████████▏                                                   | 3/8 [10:51<18:08, 217.77s/it]"
     ]
    },
    {
     "name": "stdout",
     "output_type": "stream",
     "text": [
      "3 53746\n"
     ]
    },
    {
     "name": "stderr",
     "output_type": "stream",
     "text": [
      " 50%|█████████████████████████████████████████▌                                         | 4/8 [14:06<13:55, 208.85s/it]"
     ]
    },
    {
     "name": "stdout",
     "output_type": "stream",
     "text": [
      "4 55149\n"
     ]
    },
    {
     "name": "stderr",
     "output_type": "stream",
     "text": [
      " 62%|███████████████████████████████████████████████████▉                               | 5/8 [17:30<10:21, 207.11s/it]"
     ]
    },
    {
     "name": "stdout",
     "output_type": "stream",
     "text": [
      "5 53648\n"
     ]
    },
    {
     "name": "stderr",
     "output_type": "stream",
     "text": [
      " 75%|██████████████████████████████████████████████████████████████▎                    | 6/8 [20:50<06:48, 204.42s/it]"
     ]
    },
    {
     "name": "stdout",
     "output_type": "stream",
     "text": [
      "6 55248\n"
     ]
    },
    {
     "name": "stderr",
     "output_type": "stream",
     "text": [
      " 88%|████████████████████████████████████████████████████████████████████████▋          | 7/8 [24:17<03:25, 205.35s/it]"
     ]
    },
    {
     "name": "stdout",
     "output_type": "stream",
     "text": [
      "7 53665\n"
     ]
    },
    {
     "name": "stderr",
     "output_type": "stream",
     "text": [
      "100%|███████████████████████████████████████████████████████████████████████████████████| 8/8 [27:36<00:00, 207.11s/it]\n"
     ]
    }
   ],
   "source": [
    "for i in tqdm(range(8)):\n",
    "    with open(\"index\"+str(i)+\"_position_attention.json\") as f:\n",
    "        data = json.load(f)\n",
    "    \n",
    "    filtered = [r for r in data if r['value']>0.03]\n",
    "    print(i, len(filtered))\n",
    "    \n",
    "    with open(\"index\"+str(i)+\"_position_attention_2.json\",\"w\") as f:\n",
    "        json.dump(filtered, f)\n"
   ]
  },
  {
   "cell_type": "code",
   "execution_count": 37,
   "id": "057a4339-c21f-408c-b3ba-eb99073cc92c",
   "metadata": {},
   "outputs": [],
   "source": [
    "with open(\"index\"+str(i)+\"_position_attention.json\") as f:\n",
    "    data = json.load(f)"
   ]
  },
  {
   "cell_type": "code",
   "execution_count": 38,
   "id": "1ff5a3f1-3343-4888-8201-ce57163f098b",
   "metadata": {},
   "outputs": [],
   "source": [
    "filtered = [r for r in data if r['value']>0.05]\n",
    "len(filtered)"
   ]
  },
  {
   "cell_type": "code",
   "execution_count": 40,
   "id": "3e620a62-c33b-4c86-b991-9c8fda4fa4ab",
   "metadata": {},
   "outputs": [],
   "source": [
    "with open(\"index\"+str(i)+\"_position_attention_1.json\",\"w\") as f:\n",
    "    json.dump(filtered, f)"
   ]
  },
  {
   "cell_type": "code",
   "execution_count": null,
   "id": "2f56ce5e-0b8a-4584-a163-733cbb0d4647",
   "metadata": {},
   "outputs": [],
   "source": []
  }
 ],
 "metadata": {
  "kernelspec": {
   "display_name": "Python 3 (ipykernel)",
   "language": "python",
   "name": "python3"
  },
  "language_info": {
   "codemirror_mode": {
    "name": "ipython",
    "version": 3
   },
   "file_extension": ".py",
   "mimetype": "text/x-python",
   "name": "python",
   "nbconvert_exporter": "python",
   "pygments_lexer": "ipython3",
   "version": "3.10.6"
  }
 },
 "nbformat": 4,
 "nbformat_minor": 5
}
