{
 "cells": [
  {
   "cell_type": "code",
   "execution_count": 41,
   "id": "1ac39828-9cb3-4773-a0d6-eeccfa281e01",
   "metadata": {},
   "outputs": [],
   "source": [
    "import json"
   ]
  },
  {
   "cell_type": "code",
   "execution_count": 36,
   "id": "c86c0539-c72b-478d-a4a0-d7dc0a06a918",
   "metadata": {},
   "outputs": [],
   "source": [
    "i=3"
   ]
  },
  {
   "cell_type": "code",
   "execution_count": 37,
   "id": "057a4339-c21f-408c-b3ba-eb99073cc92c",
   "metadata": {},
   "outputs": [],
   "source": [
    "with open(\"index\"+str(i)+\"_position_attention.json\") as f:\n",
    "    data = json.load(f)"
   ]
  },
  {
   "cell_type": "code",
   "execution_count": 38,
   "id": "1ff5a3f1-3343-4888-8201-ce57163f098b",
   "metadata": {},
   "outputs": [],
   "source": [
    "filtered = [r for r in data if r['value']>0.05]\n",
    "len(filtered)"
   ]
  },
  {
   "cell_type": "code",
   "execution_count": 40,
   "id": "3e620a62-c33b-4c86-b991-9c8fda4fa4ab",
   "metadata": {},
   "outputs": [],
   "source": [
    "with open(\"index\"+str(i)+\"_position_attention_1.json\",\"w\") as f:\n",
    "    json.dump(filtered, f)"
   ]
  },
  {
   "cell_type": "code",
   "execution_count": null,
   "id": "2f56ce5e-0b8a-4584-a163-733cbb0d4647",
   "metadata": {},
   "outputs": [],
   "source": []
  }
 ],
 "metadata": {
  "kernelspec": {
   "display_name": "Python 3 (ipykernel)",
   "language": "python",
   "name": "python3"
  },
  "language_info": {
   "codemirror_mode": {
    "name": "ipython",
    "version": 3
   },
   "file_extension": ".py",
   "mimetype": "text/x-python",
   "name": "python",
   "nbconvert_exporter": "python",
   "pygments_lexer": "ipython3",
   "version": "3.10.6"
  }
 },
 "nbformat": 4,
 "nbformat_minor": 5
}
